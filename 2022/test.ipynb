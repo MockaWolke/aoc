{
 "cells": [
  {
   "cell_type": "code",
   "execution_count": 1,
   "metadata": {},
   "outputs": [],
   "source": [
    "val = 4890"
   ]
  },
  {
   "cell_type": "code",
   "execution_count": 5,
   "metadata": {},
   "outputs": [
    {
     "data": {
      "text/plain": [
       "6250"
      ]
     },
     "execution_count": 5,
     "metadata": {},
     "output_type": "execute_result"
    }
   ],
   "source": [
    "5**5 * 2"
   ]
  },
  {
   "cell_type": "code",
   "execution_count": null,
   "metadata": {},
   "outputs": [],
   "source": [
    "20=-1=0"
   ]
  },
  {
   "cell_type": "code",
   "execution_count": 8,
   "metadata": {},
   "outputs": [
    {
     "data": {
      "text/plain": [
       "110"
      ]
     },
     "execution_count": 8,
     "metadata": {},
     "output_type": "execute_result"
    }
   ],
   "source": [
    "6250 - 4890  - 5 ** 4 * 2"
   ]
  },
  {
   "cell_type": "code",
   "execution_count": 9,
   "metadata": {},
   "outputs": [
    {
     "data": {
      "text/plain": [
       "-15"
      ]
     },
     "execution_count": 9,
     "metadata": {},
     "output_type": "execute_result"
    }
   ],
   "source": [
    "110 - 5**3"
   ]
  },
  {
   "cell_type": "code",
   "execution_count": 12,
   "metadata": {},
   "outputs": [
    {
     "data": {
      "text/plain": [
       "10"
      ]
     },
     "execution_count": 12,
     "metadata": {},
     "output_type": "execute_result"
    }
   ],
   "source": [
    "-15 + 5**2"
   ]
  },
  {
   "cell_type": "code",
   "execution_count": 13,
   "metadata": {},
   "outputs": [
    {
     "data": {
      "text/plain": [
       "0"
      ]
     },
     "execution_count": 13,
     "metadata": {},
     "output_type": "execute_result"
    }
   ],
   "source": [
    "10 - 5 **1 * 2"
   ]
  },
  {
   "cell_type": "code",
   "execution_count": 32,
   "metadata": {},
   "outputs": [
    {
     "data": {
      "text/plain": [
       "True"
      ]
     },
     "execution_count": 32,
     "metadata": {},
     "output_type": "execute_result"
    }
   ],
   "source": [
    "67251474375673 >9042470936827"
   ]
  },
  {
   "cell_type": "code",
   "execution_count": 29,
   "metadata": {},
   "outputs": [
    {
     "data": {
      "text/plain": [
       "9042470936827"
      ]
     },
     "execution_count": 29,
     "metadata": {},
     "output_type": "execute_result"
    }
   ],
   "source": [
    "val =28115957264952\n",
    "val - (5 ** 19)"
   ]
  },
  {
   "cell_type": "code",
   "execution_count": 33,
   "metadata": {},
   "outputs": [
    {
     "data": {
      "text/plain": [
       "19"
      ]
     },
     "execution_count": 33,
     "metadata": {},
     "output_type": "execute_result"
    }
   ],
   "source": [
    "import numpy as np\n",
    "def get_potens(val):\n",
    "    v = np.inf\n",
    "    pot = 0\n",
    "    \n",
    "    while True:\n",
    "        \n",
    "        nv = abs(val - 5**pot)\n",
    "        if nv > v:\n",
    "            return pot-1\n",
    "        v = nv\n",
    "        pot +=1\n",
    "get_potens(28115957264952)"
   ]
  },
  {
   "cell_type": "code",
   "execution_count": 41,
   "metadata": {},
   "outputs": [
    {
     "name": "stdout",
     "output_type": "stream",
     "text": [
      "Potenz: 5\n",
      "2 -1360\n",
      "2-2 -110\n",
      "2-2-1 15\n",
      "2-2-11 -10\n",
      "2-2-11-2 0\n",
      "2-2-11-20 0\n"
     ]
    }
   ],
   "source": [
    "def get_snafu(number):\n",
    "    \n",
    "    pot = get_potens(number)\n",
    "    print('Potenz:',pot)\n",
    "    rest = number\n",
    "    s = \"\"\n",
    "    for p in range(pot,-1,-1):\n",
    "        \n",
    "        factors = np.arange(-2,3)\n",
    "        residuals = [np.abs(rest- ((5 ** p) * i)) for i in factors]\n",
    "        factor = factors[np.argmin(residuals)]\n",
    "        rest -= ((5 ** p) * factor)\n",
    "        \n",
    "        if factor==-1:\n",
    "            s = s + \"-\"\n",
    "        elif factor==-2:\n",
    "            s = s + \"=\"\n",
    "        else: \n",
    "            s = s + str(factor)\n",
    "        print(s,rest)\n",
    "        \n",
    "get_snafu(4890) "
   ]
  },
  {
   "cell_type": "code",
   "execution_count": 34,
   "metadata": {},
   "outputs": [
    {
     "data": {
      "text/plain": [
       "array([-2, -1,  0,  1,  2])"
      ]
     },
     "execution_count": 34,
     "metadata": {},
     "output_type": "execute_result"
    }
   ],
   "source": [
    "np.arange(-2,3)"
   ]
  }
 ],
 "metadata": {
  "kernelspec": {
   "display_name": "Python 3.10.8 ('aoc')",
   "language": "python",
   "name": "python3"
  },
  "language_info": {
   "codemirror_mode": {
    "name": "ipython",
    "version": 3
   },
   "file_extension": ".py",
   "mimetype": "text/x-python",
   "name": "python",
   "nbconvert_exporter": "python",
   "pygments_lexer": "ipython3",
   "version": "3.10.8"
  },
  "orig_nbformat": 4,
  "vscode": {
   "interpreter": {
    "hash": "3eae845cee23ec71eb69fd242bd2ea73b88c7934ec9aa1dcdb093ab0c804220f"
   }
  }
 },
 "nbformat": 4,
 "nbformat_minor": 2
}
